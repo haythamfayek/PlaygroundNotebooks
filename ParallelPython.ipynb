{
 "cells": [
  {
   "cell_type": "code",
   "execution_count": 1,
   "metadata": {},
   "outputs": [
    {
     "name": "stdout",
     "output_type": "stream",
     "text": [
      "4\n"
     ]
    }
   ],
   "source": [
    "import numpy\n",
    "import multiprocessing\n",
    "import timeit\n",
    "import h5py\n",
    "import random\n",
    "import time\n",
    "print multiprocessing.cpu_count()"
   ]
  },
  {
   "cell_type": "code",
   "execution_count": 2,
   "metadata": {
    "collapsed": true
   },
   "outputs": [],
   "source": [
    "def load_data(data_file):\n",
    "    \"\"\" Read Data \"\"\"\n",
    "    D = h5py.File(data_file)\n",
    "    X, Y_ = D['X'][()].transpose(), numpy.squeeze(D['Y'][()] - 1).astype(int)\n",
    "    X = numpy.reshape(X, (X.shape[0], 28, 28, 1))\n",
    "    Y = numpy.eye(10)[Y_]\n",
    "    return {'X': X, 'Y': Y}\n",
    "\n",
    "# dataset = load_data('MNIST.mat')\n",
    "dataset = {'X': numpy.random.rand(1000, 128, 128, 3).astype(numpy.float32), \n",
    "           'Y': numpy.random.randint(0, 9, size=1000)}"
   ]
  },
  {
   "cell_type": "code",
   "execution_count": 30,
   "metadata": {},
   "outputs": [],
   "source": [
    "def random_flips(x):\n",
    "    H, W, C = x.shape\n",
    "    out = numpy.empty(x.shape)\n",
    "    curr_rand = random.random()\n",
    "    # flip with probability 1/2\n",
    "    if curr_rand < 0.5:\n",
    "        out = x[:, ::-1, :]\n",
    "    else:\n",
    "        out = x\n",
    "    return out\n",
    "\n",
    "\n",
    "def random_contrast(x, scale=(0.8, 1.2)):\n",
    "    low, high = scale\n",
    "    scale = numpy.random.uniform(low, high)  \n",
    "    return x * scale\n",
    "\n",
    "\n",
    "def random_tint(x, scale=(-10, 10)):\n",
    "    low, high = scale\n",
    "    C = x.shape[2]\n",
    "    out = numpy.zeros_like(x)\n",
    "    bias = numpy.random.uniform(low, high, C)\n",
    "    for c in xrange(C):\n",
    "        out[:, :, c] = x[:, :, c] + bias[c]\n",
    "    return out"
   ]
  },
  {
   "cell_type": "code",
   "execution_count": 31,
   "metadata": {},
   "outputs": [
    {
     "name": "stdout",
     "output_type": "stream",
     "text": [
      "(256, 128, 128, 3) (256,)\n"
     ]
    }
   ],
   "source": [
    "def pow2(x):\n",
    "    time.sleep(0.1)\n",
    "    return x**2\n",
    "\n",
    "def pow3(x):\n",
    "    time.sleep(0.1)\n",
    "    return x**2\n",
    "\n",
    "def pow4(x):\n",
    "    time.sleep(0.1)\n",
    "    return x**2\n",
    "\n",
    "def augment(x):\n",
    "    augment_fns = [random_flips, random_contrast, random_tint]\n",
    "    for i in xrange(x.shape[0]):\n",
    "        x[i] = random.choice(augment_fns)(x[i])\n",
    "    return x\n",
    "\n",
    "def get_batch(X, Y, batch_size):\n",
    "    \"\"\" Samples a minibatch of size batch_size \"\"\"\n",
    "    num_examples = X.shape[0]\n",
    "    batch_mask = numpy.random.choice(num_examples, batch_size)\n",
    "    x_batch, y_batch = X[batch_mask], Y[batch_mask]\n",
    "    x_batch = augment(x_batch)\n",
    "    return x_batch, y_batch\n",
    "\n",
    "x_batch, y_batch = get_batch(dataset['X'], dataset['Y'], batch_size=256)\n",
    "print x_batch.shape, y_batch.shape"
   ]
  },
  {
   "cell_type": "code",
   "execution_count": 32,
   "metadata": {
    "collapsed": true
   },
   "outputs": [],
   "source": [
    "def augment_worker(x):\n",
    "    augment_fns = [pow2, pow3, pow4]\n",
    "    return random.choice(augment_fns)(x)\n",
    "\n",
    "def augment_parallel(x, workers):\n",
    "    pool = multiprocessing.Pool(processes=workers)\n",
    "    results = pool.map(augment_worker, [i for i in x])\n",
    "    pool.close()\n",
    "    return results\n",
    "\n",
    "def get_batch_parallel(X, Y, batch_size, workers=4):\n",
    "    \"\"\" Samples a minibatch of size batch_size \"\"\"\n",
    "    num_examples = X.shape[0]\n",
    "    batch_mask = numpy.random.choice(num_examples, batch_size)\n",
    "    x_batch, y_batch = X[batch_mask], Y[batch_mask]\n",
    "    x_batch = numpy.array(augment_parallel(x_batch, workers))\n",
    "    return x_batch, y_batch"
   ]
  },
  {
   "cell_type": "code",
   "execution_count": 9,
   "metadata": {},
   "outputs": [
    {
     "name": "stdout",
     "output_type": "stream",
     "text": [
      "0.381237030029\n"
     ]
    }
   ],
   "source": [
    "print timeit.timeit(\"get_batch(dataset['X'], dataset['Y'], batch_size=256)\", \n",
    "                    \"from __main__ import get_batch, dataset\", \n",
    "                    number=10)"
   ]
  },
  {
   "cell_type": "code",
   "execution_count": 10,
   "metadata": {},
   "outputs": [
    {
     "name": "stdout",
     "output_type": "stream",
     "text": [
      "2.93027019501\n"
     ]
    }
   ],
   "source": [
    "print timeit.timeit(\"get_batch_parallel(dataset['X'], dataset['Y'], batch_size=256)\", \n",
    "                    \"from __main__ import get_batch_parallel, dataset\", \n",
    "                    number=10)"
   ]
  },
  {
   "cell_type": "code",
   "execution_count": 33,
   "metadata": {},
   "outputs": [
    {
     "name": "stdout",
     "output_type": "stream",
     "text": [
      "0.0624949932098\n"
     ]
    }
   ],
   "source": [
    "start_time = time.time()\n",
    "get_batch(dataset['X'], dataset['Y'], batch_size=256)\n",
    "print time.time() - start_time"
   ]
  },
  {
   "cell_type": "code",
   "execution_count": 34,
   "metadata": {},
   "outputs": [
    {
     "name": "stdout",
     "output_type": "stream",
     "text": [
      "6.76107311249\n"
     ]
    }
   ],
   "source": [
    "start_time = time.time()\n",
    "x, y = get_batch_parallel(dataset['X'], dataset['Y'], batch_size=256)\n",
    "print time.time() - start_time"
   ]
  },
  {
   "cell_type": "code",
   "execution_count": null,
   "metadata": {
    "collapsed": true
   },
   "outputs": [],
   "source": []
  }
 ],
 "metadata": {
  "kernelspec": {
   "display_name": "Python 2",
   "language": "python",
   "name": "python2"
  },
  "language_info": {
   "codemirror_mode": {
    "name": "ipython",
    "version": 2
   },
   "file_extension": ".py",
   "mimetype": "text/x-python",
   "name": "python",
   "nbconvert_exporter": "python",
   "pygments_lexer": "ipython2",
   "version": "2.7.13"
  }
 },
 "nbformat": 4,
 "nbformat_minor": 2
}
